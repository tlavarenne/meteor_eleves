{
 "cells": [
  {
   "cell_type": "markdown",
   "metadata": {},
   "source": [
    "# Réception, décodage et affichage d’une image satellite METEOR-M2\n",
    "                               PARTIE 2: Décompression JPEG et affichage de l'image"
   ]
  },
  {
   "cell_type": "markdown",
   "metadata": {},
   "source": [
    "Dans la partie précédente nous avons réceptionné le signal provenant du satellite météorologique\n",
    "Meteor-M2, puis nous avons traité ce signal afin de pouvoir récupérer les données images compressées\n",
    "au format JPEG. L’objectif de cette partie est de décoder plusieurs imagettes de 8x8 pixels et de\n",
    "vérifier que le décodage correspond bien à une partie de l’image complète décodée par le programme\n",
    "\"meteor-decoder\"."
   ]
  },
  {
   "cell_type": "markdown",
   "metadata": {},
   "source": [
    "\n",
    "# I. EXTRACTION DES DONNÉES UTILES\n",
    "\n",
    "La fonction extract(fichier) contenue dans \"extract_viterbi.py\" effectue les actions suivantes :\n",
    "\n",
    "— Ouvre le fichier binaire issue du décodage précédent (viterbi).\n",
    "\n",
    "— Réalise la conversion en hexadécimal comme précédemment.\n",
    "\n",
    "— Extrait les octets compris entre deux mots de synchronisation (1acffc1d), réalise la conversion en\n",
    "décimal et place chaque ligne dans un array en forme de tableau.\n",
    "\n",
    "— Pour chaque ligne, il affiche l’endroit à partir duquel commencent les informations à exploiter.\n",
    "\n",
    "Toutes ces étapes sont visibles dans le fichier \"extract_viterbi.py\" et ne présentent pas de difficultés\n",
    "particulières. Elles ont été réalisées en suivant les explications de [2] p6-8.\n",
    "\n",
    "1. **Effectuer les opérations ci-dessus en important le fichier :**\n"
   ]
  },
  {
   "cell_type": "code",
   "execution_count": 1,
   "metadata": {},
   "outputs": [],
   "source": [
    "#import extract_viterbi\n"
   ]
  },
  {
   "cell_type": "markdown",
   "metadata": {},
   "source": [
    "Si vous souhaitez changer le fichier à traiter, ouvrir le fichier extract_viterbi.py et modifier l’instruction (autour de la ligne 100) :\n",
    "\n",
    "extract_viterbi.extraction (\"viterbi2.bin\")\n"
   ]
  },
  {
   "cell_type": "code",
   "execution_count": 2,
   "metadata": {},
   "outputs": [],
   "source": [
    "#import importlib\n",
    "#importlib.reload(extract_viterbi) # A refaire apres chaque modification du fichier\n"
   ]
  },
  {
   "cell_type": "markdown",
   "metadata": {},
   "source": [
    "![title](images/viterbi2.png)\n",
    "\n",
    "Quasiment toutes les lignes commencent par la valeur 64, 65 ou 68. Ce sont les APID (Packet\n",
    "identifier) de l’instrument à bord qui transmet les données (On rappelle qu’il y a bien trois gammes de\n",
    "longueurs d’onde). De temps en temps, une ligne commence par la valeur 70. Il s’agit d’une information\n",
    "de télémétrie.\n",
    "\n",
    "2. **Identifier une ligne de télémétrie et trouver l’heure envoyée par le satellite à partir de\n",
    "l’octet 21 (en comptant l’octet 70 comme 0). Est-ce cohérent avec l’information donnée\n",
    "par meteor-decoder : \"Onboard time : 12 :07 :25.928\". Notre décodage est-il validé jusque-là ?**\n"
   ]
  },
  {
   "cell_type": "markdown",
   "metadata": {},
   "source": [
    "*Répondre ici*"
   ]
  },
  {
   "cell_type": "markdown",
   "metadata": {},
   "source": [
    "Nous allons nous intéresser dans la suite à la ligne 26, concernant des données provenant de\n",
    "l’instrument ayant pour APID 65. Sur une telle ligne, l’octet 18 correspond au facteur de qualité\n",
    "Q (qui nous servira plus tard) et les octets suivants concernent les données de l’image envoyée.\n",
    "\n",
    "3. **Identifier la ligne en question, donner la valeur du facteur de qualité Q pour cette ligne\n",
    "ainsi que les huit premiers octets correspondants aux données de l’image.**\n"
   ]
  },
  {
   "cell_type": "markdown",
   "metadata": {},
   "source": [
    "*Répondre ici*"
   ]
  },
  {
   "cell_type": "markdown",
   "metadata": {},
   "source": [
    "# II. DÉCODAGE DE HUFFMAN\n",
    "Commençons par revoir et approfondir un peu le principe de la compression JPEG :\n",
    "\n",
    "![title](images/jpeg.png)\n",
    "![title](images/jpeg2.png)\n",
    "![title](images/jpeg3.png)\n",
    "![title](images/jpeg4.png)\n",
    "4. **Décoder les 7 premiers octets des données de la ligne 26 sachant qu’ils sont encodés selon\n",
    "l’algorithme de Huffman (commencer par les convertir en binaire sur 8 bits).**\n"
   ]
  },
  {
   "cell_type": "markdown",
   "metadata": {},
   "source": [
    "*Répondre ici*"
   ]
  },
  {
   "cell_type": "markdown",
   "metadata": {},
   "source": [
    "5. **Vérifier que votre décodage est correct en utilisant la fonction ci-dessous. Pourquoi a\n",
    "t-on ajouté 1010 à la fin ?**\n"
   ]
  },
  {
   "cell_type": "code",
   "execution_count": 5,
   "metadata": {},
   "outputs": [
    {
     "ename": "NameError",
     "evalue": "name 'extract_viterbi' is not defined",
     "output_type": "error",
     "traceback": [
      "\u001b[0;31m---------------------------------------------------------------------------\u001b[0m",
      "\u001b[0;31mNameError\u001b[0m                                 Traceback (most recent call last)",
      "\u001b[0;32m<ipython-input-5-272461ae9203>\u001b[0m in \u001b[0;36m<module>\u001b[0;34m\u001b[0m\n\u001b[0;32m----> 1\u001b[0;31m \u001b[0mextract_viterbi\u001b[0m\u001b[0;34m.\u001b[0m\u001b[0mhuffman\u001b[0m\u001b[0;34m(\u001b[0m\u001b[0;34m\"1111100001011011010110001111100000000111111101100001\"\u001b[0m \u001b[0;34m+\u001b[0m \u001b[0;34m\"1010\"\u001b[0m\u001b[0;34m)\u001b[0m\u001b[0;34m\u001b[0m\u001b[0;34m\u001b[0m\u001b[0m\n\u001b[0m",
      "\u001b[0;31mNameError\u001b[0m: name 'extract_viterbi' is not defined"
     ]
    }
   ],
   "source": [
    " extract_viterbi.huffman(\"1111100001011011010110001111100000000111111101100001\" + \"1010\")\n"
   ]
  },
  {
   "cell_type": "markdown",
   "metadata": {},
   "source": [
    "*Répondre ici*"
   ]
  },
  {
   "cell_type": "markdown",
   "metadata": {},
   "source": [
    "6. **Réaliser le décodage de la ligne 26 complète sachant qu’elle contient un MCU complet\n",
    "de 14 imagettes en utilisant la fonction :**\n"
   ]
  },
  {
   "cell_type": "code",
   "execution_count": 4,
   "metadata": {},
   "outputs": [
    {
     "ename": "NameError",
     "evalue": "name 'extract_viterbi' is not defined",
     "output_type": "error",
     "traceback": [
      "\u001b[0;31m---------------------------------------------------------------------------\u001b[0m",
      "\u001b[0;31mNameError\u001b[0m                                 Traceback (most recent call last)",
      "\u001b[0;32m<ipython-input-4-043ffbfbecea>\u001b[0m in \u001b[0;36m<module>\u001b[0;34m\u001b[0m\n\u001b[0;32m----> 1\u001b[0;31m \u001b[0mextract_viterbi\u001b[0m\u001b[0;34m.\u001b[0m\u001b[0mhuff\u001b[0m\u001b[0;34m(\u001b[0m\u001b[0mline\u001b[0m\u001b[0;34m,\u001b[0m\u001b[0mnbr\u001b[0m\u001b[0;34m)\u001b[0m\u001b[0;34m\u001b[0m\u001b[0;34m\u001b[0m\u001b[0m\n\u001b[0m",
      "\u001b[0;31mNameError\u001b[0m: name 'extract_viterbi' is not defined"
     ]
    }
   ],
   "source": [
    "extract_viterbi.huff(line,nbr)\n"
   ]
  },
  {
   "cell_type": "markdown",
   "metadata": {},
   "source": [
    "où line correspond à la ligne souhaitée et nbr au nombre d’imagettes à décoder.\n",
    "Lors du décodage manuel, on se rend compte que certains octets sont codés sur plus de huit bits,\n",
    "étrange pour une méthode de compression ? Pour l’exemple traité à la main plus haut, le gain en\n",
    "compression n’est pas flagrant... Qu’en est-il lorsqu’on considère un plus grand nombre d’octets ?\n",
    "7. **La fonction précédente affiche dans la console le nombre d’octets compressés et le nombre\n",
    "d’octets décompressés. Calculer le pourcentage de compression gagné avec la méthode de\n",
    "Huffman. Commenter.**\n"
   ]
  },
  {
   "cell_type": "markdown",
   "metadata": {},
   "source": [
    "*Répondre ici*"
   ]
  },
  {
   "cell_type": "markdown",
   "metadata": {},
   "source": [
    "8. **Calculer le taux de compression associé à cette zone (on ne tient pas compte des tables\n",
    "à joindre au fichier ni du facteur de qualité à transmettre également). Commenter.**\n"
   ]
  },
  {
   "cell_type": "markdown",
   "metadata": {},
   "source": [
    "*Répondre ici*"
   ]
  },
  {
   "cell_type": "markdown",
   "metadata": {},
   "source": [
    "# III. DES ZIGS ET DES ZAGS\n",
    "9. **Compléter les 15 premières valeurs de la première matrice de la ligne 26 en utilisant la\n",
    "lecture en zigzag :**\n"
   ]
  },
  {
   "cell_type": "markdown",
   "metadata": {},
   "source": [
    "-233 ... ... ... ... \n",
    "\n",
    "...  ... ... ... ...\n",
    "\n",
    "... ... ... ... ...\n",
    "\n",
    "... ... ...\n",
    "\n",
    "... ...\n",
    "\n",
    "..."
   ]
  },
  {
   "cell_type": "markdown",
   "metadata": {},
   "source": [
    "Puis vérifier avec la fonction :\n"
   ]
  },
  {
   "cell_type": "code",
   "execution_count": null,
   "metadata": {},
   "outputs": [],
   "source": [
    "extract_viterbi.zigzag(ligne,nbr_total,matrice)\n"
   ]
  },
  {
   "cell_type": "markdown",
   "metadata": {},
   "source": [
    "ligne : le numéro de la ligne,\n",
    "nbr_total : le nombre d’imagettes dans la ligne considérée,\n",
    "matrice : le numéro de la matrice à afficher\n",
    "\n",
    "10. **Faire afficher la matrice suivante. En vérifiant avec la liste affichée plus haut dans la\n",
    "console, que constate-t-on pour la valeur DC ? Prédire la valeur DC de la troisième\n",
    "matrice.**\n"
   ]
  },
  {
   "cell_type": "code",
   "execution_count": null,
   "metadata": {},
   "outputs": [],
   "source": []
  },
  {
   "cell_type": "markdown",
   "metadata": {},
   "source": [
    "*Répondre ici*"
   ]
  },
  {
   "cell_type": "markdown",
   "metadata": {},
   "source": [
    "# IV. QUANTIFICATION INVERSE\n",
    "Commencer par créér une variable DCT qui va stocker la valeur de la première matrice en zigzag :\n"
   ]
  },
  {
   "cell_type": "code",
   "execution_count": 3,
   "metadata": {},
   "outputs": [
    {
     "ename": "NameError",
     "evalue": "name 'extract_viterbi' is not defined",
     "output_type": "error",
     "traceback": [
      "\u001b[0;31m---------------------------------------------------------------------------\u001b[0m",
      "\u001b[0;31mNameError\u001b[0m                                 Traceback (most recent call last)",
      "\u001b[0;32m<ipython-input-3-e0f4ab6f5fe6>\u001b[0m in \u001b[0;36m<module>\u001b[0;34m\u001b[0m\n\u001b[0;32m----> 1\u001b[0;31m \u001b[0mDCT\u001b[0m \u001b[0;34m=\u001b[0m \u001b[0mextract_viterbi\u001b[0m\u001b[0;34m.\u001b[0m\u001b[0mzigzag\u001b[0m\u001b[0;34m(\u001b[0m\u001b[0;36m26\u001b[0m\u001b[0;34m,\u001b[0m\u001b[0;36m14\u001b[0m\u001b[0;34m,\u001b[0m\u001b[0;36m0\u001b[0m\u001b[0;34m)\u001b[0m\u001b[0;34m\u001b[0m\u001b[0;34m\u001b[0m\u001b[0m\n\u001b[0m",
      "\u001b[0;31mNameError\u001b[0m: name 'extract_viterbi' is not defined"
     ]
    }
   ],
   "source": [
    "DCT = extract_viterbi.zigzag(26,14,0)\n"
   ]
  },
  {
   "cell_type": "markdown",
   "metadata": {},
   "source": [
    "Pour la quantification on utilise une matrice classique de quantification que l’on nomme HTK (voir\n",
    "ci-dessous)\n",
    "Cette matrice est modifiée en fonction du facteur de qualité Q selon les instructions suivantes :\n",
    "\n",
    "— Si Q est compris entre 20 et 50 : F = 5000 / Q\n",
    " et F = 200 − 2 × Q sinon.\n",
    "\n",
    "— On en déduit une nouvelle matrice PTK dont les éléments sont ceux de HTK multiplié par F/100.\n",
    "\n",
    "— La matrice originale avant quantification F0 est obtenue en multipliant élément par élément DCT\n",
    "et PTK.\n",
    "\n",
    "11. **Ouvrir le fichier extract_viterbi.py et compléter la fonction quantif(DCT,Q) (vers les\n",
    "lignes 520) en tenant compte des instructions ci-dessus (cf Figure 7).**\n",
    "\n",
    "![title](images/fig7.png)\n",
    "\n",
    "12. **Executer la fonction pour afficher la matrice F0 et la stocker dans une variable F0 :**\n",
    "\n",
    "En ayant bien pris soin de remplacer la valeur de Q par celle trouvée à la question 18.\n",
    "\n"
   ]
  },
  {
   "cell_type": "code",
   "execution_count": null,
   "metadata": {},
   "outputs": [],
   "source": [
    "import importlib # Faire qu’une fois\n",
    "importlib.reload(extract_viterbi)   # Refaire apres chaque modification\n",
    "F0 = extract_viterbi.quantif(DCT,Q)\n"
   ]
  },
  {
   "cell_type": "markdown",
   "metadata": {},
   "source": [
    "# V. TRANSFORMÉE EN COSINUS DISCRÈTE INVERSE\n",
    "La formule permettant de calculer la DCT inverse est donnée :\n",
    "\n",
    "![title](images/dct.png)\n"
   ]
  },
  {
   "cell_type": "markdown",
   "metadata": {},
   "source": [
    "13. **Toujours dans le même fichier (cf Figure 8), compléter la fonction suivante tcdi(F0) à\n",
    "l’aide de la formule ci-dessus (π = math.pi) :**\n",
    "\n",
    "\n",
    "![title](images/fig8.png)\n",
    "\n",
    "14. **Executer la fonction pour afficher la matrice S et la stocker dans une variable :**\n"
   ]
  },
  {
   "cell_type": "code",
   "execution_count": null,
   "metadata": {},
   "outputs": [],
   "source": [
    "import importlib # Faire qu’une fois\n",
    "importlib.reload(extract_viterbi)   # Refaire apres chaque modification\n",
    "S = extract_viterbi.tcdi(F0)\n"
   ]
  },
  {
   "cell_type": "markdown",
   "metadata": {},
   "source": [
    "15. **Pourquoi a t-on des nombres négatifs ? Que reste t-il à faire ? Le réaliser.**\n"
   ]
  },
  {
   "cell_type": "code",
   "execution_count": null,
   "metadata": {},
   "outputs": [],
   "source": []
  },
  {
   "cell_type": "markdown",
   "metadata": {},
   "source": [
    "# VI. ENFIN DES IMAGES !\n",
    "On utilise le module image de PIL :\n"
   ]
  },
  {
   "cell_type": "code",
   "execution_count": null,
   "metadata": {},
   "outputs": [],
   "source": [
    "import PIL\n",
    "image = PIL.Image.fromarray(S)\n",
    "image.show()"
   ]
  },
  {
   "cell_type": "markdown",
   "metadata": {},
   "source": [
    "16. **Qu’observez-vous ?**\n"
   ]
  },
  {
   "cell_type": "markdown",
   "metadata": {},
   "source": [
    "*Répondre ici*"
   ]
  },
  {
   "cell_type": "markdown",
   "metadata": {},
   "source": [
    "On va essayer de faire mieux en affichant les 14 imagettes de la ligne 25 :\n",
    "\n",
    "17. **En récapitulant toutes les étapes précédentes dans une boucle, remplir une liste s=[]\n",
    "contenant les 14 matrices S. Puis à l’aide de la fonction np.concatenate((a,b), axis=1)\n",
    "rassembler toutes les matrices en une seule ligne et afficher l’image.**\n"
   ]
  },
  {
   "cell_type": "code",
   "execution_count": null,
   "metadata": {},
   "outputs": [],
   "source": [
    "s = []\n",
    "for i in range(14):\n",
    "    DCT = ...\n",
    "    F0 = ...\n",
    "    S = ...\n",
    "    S = ...\n",
    "    s.append(S)"
   ]
  },
  {
   "cell_type": "code",
   "execution_count": null,
   "metadata": {},
   "outputs": [],
   "source": [
    "import numpy as np\n",
    "S=s[0]\n",
    "for i in range(...):\n",
    "    S = np.concatenate((S,....), axis=1)\n",
    "image = PIL.Image.fromarray(S)\n",
    "image.show()"
   ]
  },
  {
   "cell_type": "markdown",
   "metadata": {},
   "source": [
    "18. **Reconnaissez vous cet endroit sur l’image entière ? Enregistrer l’image au format bmp\n",
    "(clic - File - Save) et à l’aide de The Gimp par exemple, superposez cette imagette sur\n",
    "l’image originale pour montrer la correspondance.**\n",
    "\n",
    "![title](images/fin.png)\n"
   ]
  },
  {
   "cell_type": "markdown",
   "metadata": {},
   "source": [
    "## Références :\n",
    "\n",
    "[1] J.-M Friedt, Décodage d’images numériques issues de satellites météorologiques en orbite basse :\n",
    "le protocole LRPT de Meteor-M2 (partie 1/2), janvier 2019, http ://jmfriedt.free.fr/glmf_meteor1.pdf\n",
    "\n",
    "[2] J.-M Friedt, Décodage d’images numériques issues de satellites météorologiques en orbite basse :\n",
    "le protocole LRPT de Meteor-M2 (partie 2/2), mars 2019, http ://jmfriedt.free.fr/glmf_meteor1.pdf\n",
    "\n",
    "[3] Memon Nasir, ... Ansari Rashid, in Handbook of Image and Video Processing (Second Edition),\n",
    "2005, The JPEG Lossless Image Compression Standards, https ://www.sciencedirect.com/topics/engineering/huffm\n",
    "table\n",
    "\n"
   ]
  }
 ],
 "metadata": {
  "kernelspec": {
   "display_name": "Python 3",
   "language": "python",
   "name": "python3"
  },
  "language_info": {
   "codemirror_mode": {
    "name": "ipython",
    "version": 3
   },
   "file_extension": ".py",
   "mimetype": "text/x-python",
   "name": "python",
   "nbconvert_exporter": "python",
   "pygments_lexer": "ipython3",
   "version": "3.8.2"
  }
 },
 "nbformat": 4,
 "nbformat_minor": 4
}
