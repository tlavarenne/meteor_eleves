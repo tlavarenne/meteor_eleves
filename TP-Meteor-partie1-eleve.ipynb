{
 "cells": [
  {
   "cell_type": "markdown",
   "metadata": {},
   "source": [
    "# Réception, décodage et affichage d’une image satellite METEOR-M2\n",
    "                               PARTIE 1: Réception et extraction des données"
   ]
  },
  {
   "cell_type": "markdown",
   "metadata": {},
   "source": [
    "Meteor-M2 est un satellite météorologique Russe lancé en 2014 et qui se trouve en orbite basse\n",
    "autour de la Terre à une altitude d’environ 830 km. Sa période de révolution est de l’ordre de 100\n",
    "minutes. Une de ses missions principales est de surveiller le réchauffement climatique en mesurant la\n",
    "température des océans et en estimant la fonte des glaces polaires. Il est équipé de plusieurs capteurs\n",
    "HD qui envoient des données d’imagerie vers les stations aux sols sur 3 bandes principalement. Lorsqu’il\n",
    "transmet en journée, elles se situent généralement dans le visible pour la première, dans le rouge et le\n",
    "proche infrarouge pour la deuxième et dans l’infrarouge plus lointain pour la troisième. Les données\n",
    "images reçues sont envoyées compressées au format JPEG.\n",
    "![title](images/lrptoff.png)\n",
    "Figure 1 – Le programme \"LRPT Offline Decoder\" permet de décoder les données reçues et affiche\n",
    "l’image en tenant compte des informations reçues sur les trois canaux.\n",
    "![title](images/fig2.png)\n",
    "Figure 2 – D’autres programmes comme \"LRPT Enhancer\" permettent de changer le type de projec-\n",
    "tion ainsi que d’afficher des couleurs plus \"naturelles\" (image \"brute\" à gauche et améliorée à droite)\n",
    "\n",
    "Nous nous proposons, au cours de ce TP, d’étudier la chaîne de traitement du protocole LRPT\n",
    "utilisé ici, de la réception à l’affichage de l’image.\n",
    "\n"
   ]
  },
  {
   "cell_type": "markdown",
   "metadata": {},
   "source": [
    "# I. RÉCEPTION DU SIGNAL\n",
    "## 1. Le protocole LRPT"
   ]
  },
  {
   "cell_type": "markdown",
   "metadata": {},
   "source": [
    "Il existe différents protocoles utilisés par les différents satellites météorologiques en orbite basse\n",
    "autour de la Terre : APT, LRPT, HRPT...etc. Le satellite Meteor M2 utilise le protocole LRPT,\n",
    "relativement bien documenté.\n",
    "![title](images/lrpt.png)\n",
    "La fréquence actuelle de transmission est 137,1 MHz, et utilise une onde électromagnétique polarisée circulairement.\n",
    "\n",
    "## 2. Antenne dipôle en V\n",
    "\n",
    "Une antenne simple à réaliser et permettant l’obtention de résultats satisfaisants est l’antenne\n",
    "dipôle \"en V\" (on applique un certain angle entre les deux brins afin de réaliser la meilleure adaptation\n",
    "d’impédance possible).\n",
    "\n",
    "1. **Calculer la longueur théorique de chaque brin du dipôle (longueur totale du dipôle : λ/2).**\n"
   ]
  },
  {
   "cell_type": "markdown",
   "metadata": {},
   "source": [
    "Répondre ici\n"
   ]
  },
  {
   "cell_type": "markdown",
   "metadata": {},
   "source": [
    "2. **Pourquoi est-il important d’assurer l’adaptation d’impédance dans le cas de la réception\n",
    "ou de l’émission d’un signal électromagnétique ?**\n"
   ]
  },
  {
   "cell_type": "markdown",
   "metadata": {},
   "source": [
    "Répondre ici\n"
   ]
  },
  {
   "cell_type": "markdown",
   "metadata": {},
   "source": [
    "3. **En utilisant la Figure 3 ci-dessous, déterminer la valeur de l’angle théorique optimal pour\n",
    "assurer l’adaptation d’impédance à appliquer entre les deux brins du dipôle ?**\n"
   ]
  },
  {
   "cell_type": "markdown",
   "metadata": {},
   "source": [
    "Répondre ici\n"
   ]
  },
  {
   "cell_type": "markdown",
   "metadata": {},
   "source": [
    "4. **En utilisant les informations données en introduction de ce document, celles données dans\n",
    "le Doc. 1 et sur la Figure 3, établir un bilan de liaison afin d’estimer la puissance en W\n",
    "absorbée par l’antenne en réception pour les deux valeurs extrèmes de la PIRE donnée.\n",
    "Convertir ces puissances en dBm.**\n"
   ]
  },
  {
   "cell_type": "markdown",
   "metadata": {},
   "source": [
    "Répondre ici\n"
   ]
  },
  {
   "cell_type": "markdown",
   "metadata": {},
   "source": [
    "5. **En estimant la sensibilité du récepteur DVB-T utilisé à -110 dBm, peut-on espérer récupérer un signal significatif grâce à notre dispositif ?**\n"
   ]
  },
  {
   "cell_type": "markdown",
   "metadata": {},
   "source": [
    "Répondre ici\n"
   ]
  },
  {
   "cell_type": "markdown",
   "metadata": {},
   "source": [
    "![title](images/fig3.png)\n",
    "\n",
    "Pour affiner un peu notre estimation, il faut tenir compte du fait que l’onde émise par le satellite\n",
    "est polarisée circulairement.\n"
   ]
  },
  {
   "cell_type": "markdown",
   "metadata": {},
   "source": [
    "6. **Quelle devrait être la polarisation de l’antenne de réception pour récupérer le maximum\n",
    "de signal ? Est-ce le cas ?**\n"
   ]
  },
  {
   "cell_type": "markdown",
   "metadata": {},
   "source": [
    "Répondre ici\n"
   ]
  },
  {
   "cell_type": "markdown",
   "metadata": {},
   "source": [
    "On peut montrer que le fait de réceptionner une onde polarisée circulairement avec une antenne\n",
    "dipôle polarisée rectilignement engendre une perte de 3 dB (on ne récupère qu’une seule des deux\n",
    "composantes circulaires incidentes).\n",
    "\n",
    "7. **Peut-on tout de même espérer une réception convenable du signal ? Pourquoi utiliser une\n",
    "antenne dipôle alors ?**\n"
   ]
  },
  {
   "cell_type": "markdown",
   "metadata": {},
   "source": [
    "Répondre ici\n"
   ]
  },
  {
   "cell_type": "markdown",
   "metadata": {},
   "source": [
    "## 3. Réception du signal et enregistrement des données\n",
    "Ouvrir le fichier \"meteor.grc\" ([6]) représenté sur la Figure 4 et compléter le champ Frequency.\n",
    "8. **Calculer la valeur du paramètre \"omega\" du bloc \"Clock Recovery MM\" sachant qu’il\n",
    "correspond au nombre d’échantillons par symbole.**\n",
    "\n",
    "![title](images/fig4.png)\n"
   ]
  },
  {
   "cell_type": "markdown",
   "metadata": {},
   "source": [
    "Répondre ici\n"
   ]
  },
  {
   "cell_type": "markdown",
   "metadata": {},
   "source": [
    "9. **Quel est le type de modulation ? Expliquer rapidement. Combien a t-on de bits par\n",
    "symboles ?**\n"
   ]
  },
  {
   "cell_type": "markdown",
   "metadata": {},
   "source": [
    "Répondre ici\n"
   ]
  },
  {
   "cell_type": "markdown",
   "metadata": {},
   "source": [
    "###### On rajoute un bloc \"QT GUI Frequency Sink\" directement en sortie du bloc source, on observe\n",
    "les graphiques suivants lors de la transmission :\n",
    "\n",
    "![title](images/fig5.png)\n",
    "\n",
    "10. **Estimer la valeur de l’occupation spectrale de la modulation QPSK. Comparer aux in-\n",
    "formations données dans le Doc. 1.**\n"
   ]
  },
  {
   "cell_type": "markdown",
   "metadata": {},
   "source": [
    "Répondre ici\n"
   ]
  },
  {
   "cell_type": "markdown",
   "metadata": {},
   "source": [
    "11. **En observant la Figure 5, à combien de dB au-dessus du bruit se situe le signal ? Est-ce\n",
    "cohérent avec le bilan de liaison effectué plus haut ?**\n"
   ]
  },
  {
   "cell_type": "markdown",
   "metadata": {},
   "source": [
    "Répondre ici\n"
   ]
  },
  {
   "cell_type": "markdown",
   "metadata": {},
   "source": [
    "12. **Observer les paramètres du bloc \"Constellation Soft Decoder\" et compléter le schéma\n",
    "(Figure 5 à droite) avec les valeurs binaires 00, 01, 10 et 11 correspondant à chaque points\n",
    "de coordonnées ±1 ± j**\n"
   ]
  },
  {
   "cell_type": "markdown",
   "metadata": {},
   "source": [
    "-1-j: 00\n",
    "-1+j: 01\n",
    "1+j: 11\n",
    "1-j: 10"
   ]
  },
  {
   "cell_type": "markdown",
   "metadata": {},
   "source": [
    "digital.constellation_calcdist(([-1-1j, -1+1j, 1+1j, 1-1j]), ([0, 1, 3, 2]), 4, 1).base()\n",
    "\n",
    "![title](images/fig6.png)\n",
    "\n",
    "Pour le traitement ultérieur, chaque valeur comprise entre [-1 ;1] est convertie dans la gamme [-\n",
    "127 ;127] et stockée sur un octet (signed char) dans un fichier binaire nommé ici \"ex.s\". Par la suite\n",
    "nous nommerons \"softs bits\" ces octets.\n",
    "C’est ce fichier qui est traité par \"LRPT Offline Decoder\" présenté en introduction ou encore par\n",
    "\"meteor-decoder\" ([6]) et c’est ce fichier que nous allons traiter pour afficher l’image JPEG.\n",
    "Pour simplifier et diminuer la quantité de donnée à traiter, nous allons travailler sur une petite\n",
    "fraction de ce fichier (quelques lignes correspondant au milieu de l’image). Ce fichier de travail se\n",
    "nomme \"binarymeteor.s\".\n",
    "\n",
    "\n",
    "# II. DES \"SOFTS BITS\" AUX BITS\n",
    "## 1. Affichage des \"softs bits\" et de la constellation\n",
    "\n",
    "Importer la bibliothèque numpy,\n",
    "ouvrir le fichier binaire et lire les valeurs avec le type int8 :\n"
   ]
  },
  {
   "cell_type": "code",
   "execution_count": 6,
   "metadata": {},
   "outputs": [],
   "source": [
    "import numpy as np\n",
    "f = open(\"binarymeteor.s\",\"rb\")\n",
    "soft_bits = np.fromfile(f,dtype = np.int8)"
   ]
  },
  {
   "cell_type": "markdown",
   "metadata": {},
   "source": [
    "13. **Faire afficher les 20 premières valeurs pour vérifier le bon fonctionnement de vos commandes.**"
   ]
  },
  {
   "cell_type": "code",
   "execution_count": null,
   "metadata": {},
   "outputs": [],
   "source": []
  },
  {
   "cell_type": "markdown",
   "metadata": {},
   "source": [
    "Afin de valider complètement notre compréhension de ce fichier, nous allons maintenant ré-afficher\n",
    "la constellation avec matplotlib. Pour cela, récupérer les valeurs paires dans une nouvelle liste x\n",
    "(abscisses) et les valeurs impaires dans une nouvelle liste y (ordonnée). Taper les commandes ci-\n",
    "dessous en complétant éventuellement les pointillés :\n"
   ]
  },
  {
   "cell_type": "code",
   "execution_count": 1,
   "metadata": {},
   "outputs": [
    {
     "ename": "NameError",
     "evalue": "name 'soft_bits' is not defined",
     "output_type": "error",
     "traceback": [
      "\u001b[0;31m---------------------------------------------------------------------------\u001b[0m",
      "\u001b[0;31mNameError\u001b[0m                                 Traceback (most recent call last)",
      "\u001b[0;32m<ipython-input-1-8c925b008e17>\u001b[0m in \u001b[0;36m<module>\u001b[0;34m\u001b[0m\n\u001b[1;32m      2\u001b[0m \u001b[0mx\u001b[0m\u001b[0;34m=\u001b[0m\u001b[0;34m[\u001b[0m\u001b[0;34m]\u001b[0m\u001b[0;34m\u001b[0m\u001b[0;34m\u001b[0m\u001b[0m\n\u001b[1;32m      3\u001b[0m \u001b[0my\u001b[0m\u001b[0;34m=\u001b[0m\u001b[0;34m[\u001b[0m\u001b[0;34m]\u001b[0m\u001b[0;34m\u001b[0m\u001b[0;34m\u001b[0m\u001b[0m\n\u001b[0;32m----> 4\u001b[0;31m \u001b[0;32mfor\u001b[0m \u001b[0mi\u001b[0m \u001b[0;32min\u001b[0m \u001b[0mrange\u001b[0m\u001b[0;34m(\u001b[0m\u001b[0mlen\u001b[0m\u001b[0;34m(\u001b[0m\u001b[0msoft_bits\u001b[0m\u001b[0;34m)\u001b[0m\u001b[0;34m//\u001b[0m\u001b[0;36m2\u001b[0m\u001b[0;34m)\u001b[0m\u001b[0;34m:\u001b[0m\u001b[0;34m\u001b[0m\u001b[0;34m\u001b[0m\u001b[0m\n\u001b[0m\u001b[1;32m      5\u001b[0m     \u001b[0mx\u001b[0m\u001b[0;34m.\u001b[0m\u001b[0mappend\u001b[0m\u001b[0;34m(\u001b[0m\u001b[0msoft_bits\u001b[0m\u001b[0;34m[\u001b[0m\u001b[0;34m...\u001b[0m\u001b[0;34m]\u001b[0m\u001b[0;34m/\u001b[0m\u001b[0;36m127.0\u001b[0m\u001b[0;34m)\u001b[0m\u001b[0;34m\u001b[0m\u001b[0;34m\u001b[0m\u001b[0m\n\u001b[1;32m      6\u001b[0m     \u001b[0my\u001b[0m\u001b[0;34m.\u001b[0m\u001b[0mappend\u001b[0m\u001b[0;34m(\u001b[0m\u001b[0msoft_bits\u001b[0m\u001b[0;34m[\u001b[0m\u001b[0;34m...\u001b[0m\u001b[0;34m]\u001b[0m\u001b[0;34m/\u001b[0m\u001b[0;36m127.0\u001b[0m\u001b[0;34m)\u001b[0m\u001b[0;34m\u001b[0m\u001b[0;34m\u001b[0m\u001b[0m\n",
      "\u001b[0;31mNameError\u001b[0m: name 'soft_bits' is not defined"
     ]
    }
   ],
   "source": [
    "import matplotlib.pyplot as plt\n",
    "x=[]\n",
    "y=[]\n",
    "for i in range(len(soft_bits)//2):\n",
    "    x.append(soft_bits[...]/127.0)\n",
    "    y.append(soft_bits[...]/127.0)\n",
    "plt.plot(x,y, \".\")\n",
    "plt.show()"
   ]
  },
  {
   "cell_type": "markdown",
   "metadata": {},
   "source": [
    "14. **Quel est le rôle de la division par 127 ?**\n"
   ]
  },
  {
   "cell_type": "markdown",
   "metadata": {},
   "source": [
    "Répondre ici\n"
   ]
  },
  {
   "cell_type": "markdown",
   "metadata": {},
   "source": [
    "15. **Proposer une méthode pour obtenir le message binaire (passage des \"softs bit\" aux\n",
    "\"hards bits\" (0 ou 1).**\n",
    "                                                          \n"
   ]
  },
  {
   "cell_type": "markdown",
   "metadata": {},
   "source": [
    "Répondre ici\n"
   ]
  },
  {
   "cell_type": "markdown",
   "metadata": {},
   "source": [
    "Compléter le bout de programme permettant de réaliser cette opération et le réaliser.\n"
   ]
  },
  {
   "cell_type": "code",
   "execution_count": 8,
   "metadata": {},
   "outputs": [],
   "source": [
    "hard_bits =\"\"\n",
    "for i in range(len(soft_bits)):\n",
    "    if soft_bits[i] >= ...:\n",
    "        hard_bits += \"...\"\n",
    "    if soft_bits[i] < ...:\n",
    "        hard_bits += \"...\""
   ]
  },
  {
   "cell_type": "markdown",
   "metadata": {},
   "source": [
    "Vérifier en affichant les 10 premières valeurs de soft_bits et de hard_bits :\n"
   ]
  },
  {
   "cell_type": "code",
   "execution_count": 9,
   "metadata": {},
   "outputs": [
    {
     "name": "stdout",
     "output_type": "stream",
     "text": [
      "[ 68 -71 -41  51 -26 -49 103 -79 -57]\n",
      "1001001000\n"
     ]
    }
   ],
   "source": [
    "print(soft_bits[:10])  \n",
    "print(hard_bits[:10])  "
   ]
  },
  {
   "cell_type": "markdown",
   "metadata": {},
   "source": [
    "Avons-nous terminé le travail de décodage ? Les informations binaires sont-elles exploitables ? Pour\n",
    "le vérifier, il va falloir retrouver le code de synchronisation \"1ACFFC1D\" que l’on doit retrouver au\n",
    "début de chaque paquet envoyé (d’après la documentation).\n",
    "\n",
    "## 2. Mot de synchronisation et algorithme de viterbi\n",
    "\n",
    "La documentation technique du protocole LRPT nous informe que toutes les transmissions sont\n",
    "synchronisées avec le mot 0x1ACFFC1D. C’est donc ce mot que nous allons chercher à trouver\n",
    "parmi nos données. Seulement nous n’allons pas le trouver comme ça. La documentation nous indique\n",
    "également que le protocole LRPT, afin de fiabiliser la communication, double le nombre de bits envoyé\n",
    "en utilisant un encodage de viterbi. C’est donc l’encodage par viterbi du mot 0x1ACFFC1D que\n",
    "nous devons trouver.\n",
    "\n",
    "![title](images/viterbi3.png)\n",
    "\n",
    "\n",
    "16. **Pour trouver l’équivalent du mot de synchronisation encodé par l’algorithme de viterbi\n",
    "(compléter les pointillés) :**\n"
   ]
  },
  {
   "cell_type": "code",
   "execution_count": 2,
   "metadata": {},
   "outputs": [
    {
     "ename": "SyntaxError",
     "evalue": "invalid syntax (<ipython-input-2-d27e9feead70>, line 4)",
     "output_type": "error",
     "traceback": [
      "\u001b[0;36m  File \u001b[0;32m\"<ipython-input-2-d27e9feead70>\"\u001b[0;36m, line \u001b[0;32m4\u001b[0m\n\u001b[0;31m    mot = [0 , 0 , 0 ,........., 1 , 0 , 1 ] #1ACFFC1D\u001b[0m\n\u001b[0m                         ^\u001b[0m\n\u001b[0;31mSyntaxError\u001b[0m\u001b[0;31m:\u001b[0m invalid syntax\n"
     ]
    }
   ],
   "source": [
    "import viterb\n",
    "G1 = [1 , 1 , 1 , 1 , 0 , 0 , 1 ]\n",
    "G2 = [1 , 0 , 1 , 1 , 0 , 1 , 1 ]\n",
    "mot = [0 , 0 , 0 ,........., 1 , 0 , 1 ] #1ACFFC1D\n",
    "viterb.encode_viterbi(mot,G1,G2)"
   ]
  },
  {
   "cell_type": "markdown",
   "metadata": {},
   "source": [
    "17. **Chercher dans la suite hard_bits si la séquence ci-dessus est présente, et si oui, combien\n",
    "de fois. Commenter.**\n"
   ]
  },
  {
   "cell_type": "code",
   "execution_count": 11,
   "metadata": {},
   "outputs": [
    {
     "data": {
      "text/plain": [
       "0"
      ]
     },
     "execution_count": 11,
     "metadata": {},
     "output_type": "execute_result"
    }
   ],
   "source": [
    "hard_bits.count(\"0101011000001000000111001001011100011010101001110011110100111110\")\n"
   ]
  },
  {
   "cell_type": "markdown",
   "metadata": {},
   "source": [
    "Pour la démodulation, le récepteur possède un oscillateur local (OL) qui doit recréer une copie de\n",
    "la fréquence porteuse qui a été générée par l’oscillateur au niveau de l’émetteur (satellite). C’est en\n",
    "mélangeant la fréquence recréée par l’oscillateur local avec le signal réceptionné que la démodulation a\n",
    "lieu. Il n’y a cependant aucune raison que les deux oscillateurs soient parfaitement synchronisés et ce\n",
    "décalage entre les deux oscillateurs, produit un déphasage qui augmente ou diminue continuellement.\n",
    "Si aucun dispositif n’est mis en place pour compenser ce décalage, cet effet va se traduire par une\n",
    "rotation continue des symboles dans le plan (I,Q). Pour éviter cela, on utilise la boucle de Costas\n",
    "(\"Costas loop\" dans le fichier grc), qui est un système à verrouillage de phase (PLL - Phase Loop Lock\n",
    "en anglais), comme le montre la Figure 7 ci-dessous dans laquelle la boucle de Costas a été désactivée.\n",
    "\n",
    "![title](images/rotconst.png)\n",
    "\n",
    "Figure 7 – La boucle de Costas permet de compenser le décalage en phase généré lors de la réception\n",
    "du signal. Sa désactivation lors de la réception produit une rotation continue des symboles de la\n",
    "constellation.\n",
    "\n",
    "18. **Proposer une ou plusieurs explications au résultat de la question précédente.**"
   ]
  },
  {
   "cell_type": "markdown",
   "metadata": {},
   "source": [
    "Répondre ici\n"
   ]
  },
  {
   "cell_type": "markdown",
   "metadata": {},
   "source": [
    "# 3. Symétries et rotations au sein de la constellation\n",
    "Pour résoudre notre problème, il faut lever l’ambiguité sur la valeur de la phase. On peut ainsi montrer qu’il y a 8\n",
    "possibilités au total qui suivent toutes le code de Gray:\n",
    "\n",
    "![title](images/rotation.png)\n",
    "\n",
    "À ce moment-là le code de synchronisation précédent n’est peut-être pas sous la forme que nous\n",
    "avons vue précédemment. Il pourrait donc être, selon les quatre possibilités ci-dessous:\n",
    "\n",
    "1: 0101011000001000000111001001011100011010101001110011110100111110\n",
    "\n",
    "2: 0000001110101110100001101100000110001111111100011001010010010111\n",
    "\n",
    "3: 1010100111110111111000110110100011100101010110001100001011000001\n",
    "\n",
    "4: 1111110010100010101101100011110110110000000011011001011110010100\n",
    "\n",
    "Nous allons à présent utiliser une fonction de numpy qui va réaliser la corrélation entre les différents\n",
    "mots possibles et les valeur des softs bits. Lorsque nous affichons la partie réelle de cette corrélation,\n",
    "la présence de pics de corrélation positifs indique la présence du motif (la présence de pics de corrélation négatifs indique la présence du motif complémentaire).\n"
   ]
  },
  {
   "cell_type": "code",
   "execution_count": 3,
   "metadata": {},
   "outputs": [
    {
     "ename": "NameError",
     "evalue": "name 'np' is not defined",
     "output_type": "error",
     "traceback": [
      "\u001b[0;31m---------------------------------------------------------------------------\u001b[0m",
      "\u001b[0;31mNameError\u001b[0m                                 Traceback (most recent call last)",
      "\u001b[0;32m<ipython-input-3-123a3a670f34>\u001b[0m in \u001b[0;36m<module>\u001b[0;34m\u001b[0m\n\u001b[0;32m----> 1\u001b[0;31m mot = np.array([\n\u001b[0m\u001b[1;32m      2\u001b[0m \u001b[0;34m[\u001b[0m\u001b[0;36m0\u001b[0m\u001b[0;34m,\u001b[0m\u001b[0;36m1\u001b[0m\u001b[0;34m,\u001b[0m\u001b[0;36m0\u001b[0m\u001b[0;34m,\u001b[0m\u001b[0;36m1\u001b[0m\u001b[0;34m,\u001b[0m\u001b[0;36m0\u001b[0m\u001b[0;34m,\u001b[0m\u001b[0;36m1\u001b[0m\u001b[0;34m,\u001b[0m\u001b[0;36m1\u001b[0m\u001b[0;34m,\u001b[0m\u001b[0;36m0\u001b[0m\u001b[0;34m,\u001b[0m\u001b[0;36m0\u001b[0m\u001b[0;34m,\u001b[0m\u001b[0;36m0\u001b[0m\u001b[0;34m,\u001b[0m\u001b[0;36m0\u001b[0m\u001b[0;34m,\u001b[0m\u001b[0;36m0\u001b[0m\u001b[0;34m,\u001b[0m\u001b[0;36m1\u001b[0m\u001b[0;34m,\u001b[0m\u001b[0;36m0\u001b[0m\u001b[0;34m,\u001b[0m\u001b[0;36m0\u001b[0m\u001b[0;34m,\u001b[0m\u001b[0;36m0\u001b[0m\u001b[0;34m,\u001b[0m\u001b[0;36m0\u001b[0m\u001b[0;34m,\u001b[0m\u001b[0;36m0\u001b[0m\u001b[0;34m,\u001b[0m\u001b[0;36m0\u001b[0m\u001b[0;34m,\u001b[0m\u001b[0;36m1\u001b[0m\u001b[0;34m,\u001b[0m\u001b[0;36m1\u001b[0m\u001b[0;34m,\u001b[0m\u001b[0;36m1\u001b[0m\u001b[0;34m,\u001b[0m\u001b[0;36m0\u001b[0m\u001b[0;34m,\u001b[0m\u001b[0;36m0\u001b[0m\u001b[0;34m,\u001b[0m\u001b[0;36m1\u001b[0m\u001b[0;34m,\u001b[0m\u001b[0;36m0\u001b[0m\u001b[0;34m,\u001b[0m\u001b[0;36m0\u001b[0m\u001b[0;34m,\u001b[0m\u001b[0;36m1\u001b[0m\u001b[0;34m,\u001b[0m\u001b[0;36m0\u001b[0m\u001b[0;34m,\u001b[0m\u001b[0;36m1\u001b[0m\u001b[0;34m,\u001b[0m\u001b[0;36m1\u001b[0m\u001b[0;34m,\u001b[0m\u001b[0;36m1\u001b[0m\u001b[0;34m,\u001b[0m\u001b[0;36m0\u001b[0m\u001b[0;34m,\u001b[0m\u001b[0;36m0\u001b[0m\u001b[0;34m,\u001b[0m\u001b[0;36m0\u001b[0m\u001b[0;34m,\u001b[0m\u001b[0;36m1\u001b[0m\u001b[0;34m,\u001b[0m\u001b[0;36m1\u001b[0m\u001b[0;34m,\u001b[0m\u001b[0;36m0\u001b[0m\u001b[0;34m,\u001b[0m\u001b[0;36m1\u001b[0m\u001b[0;34m,\u001b[0m\u001b[0;36m0\u001b[0m\u001b[0;34m,\u001b[0m\u001b[0;36m1\u001b[0m\u001b[0;34m,\u001b[0m\u001b[0;36m0\u001b[0m\u001b[0;34m,\u001b[0m\u001b[0;36m1\u001b[0m\u001b[0;34m,\u001b[0m\u001b[0;36m0\u001b[0m\u001b[0;34m,\u001b[0m\u001b[0;36m0\u001b[0m\u001b[0;34m,\u001b[0m\u001b[0;36m1\u001b[0m\u001b[0;34m,\u001b[0m\u001b[0;36m1\u001b[0m\u001b[0;34m,\u001b[0m\u001b[0;36m1\u001b[0m\u001b[0;34m,\u001b[0m\u001b[0;36m0\u001b[0m\u001b[0;34m,\u001b[0m\u001b[0;36m0\u001b[0m\u001b[0;34m,\u001b[0m\u001b[0;36m1\u001b[0m\u001b[0;34m,\u001b[0m\u001b[0;36m1\u001b[0m\u001b[0;34m,\u001b[0m\u001b[0;36m1\u001b[0m\u001b[0;34m,\u001b[0m\u001b[0;36m1\u001b[0m\u001b[0;34m,\u001b[0m\u001b[0;36m0\u001b[0m\u001b[0;34m,\u001b[0m\u001b[0;36m1\u001b[0m\u001b[0;34m,\u001b[0m\u001b[0;36m0\u001b[0m\u001b[0;34m,\u001b[0m\u001b[0;36m0\u001b[0m\u001b[0;34m,\u001b[0m\u001b[0;36m1\u001b[0m\u001b[0;34m,\u001b[0m\u001b[0;36m1\u001b[0m\u001b[0;34m,\u001b[0m\u001b[0;36m1\u001b[0m\u001b[0;34m,\u001b[0m\u001b[0;36m1\u001b[0m\u001b[0;34m,\u001b[0m\u001b[0;36m1\u001b[0m\u001b[0;34m,\u001b[0m\u001b[0;36m0\u001b[0m\u001b[0;34m]\u001b[0m\u001b[0;34m,\u001b[0m\u001b[0;34m\u001b[0m\u001b[0;34m\u001b[0m\u001b[0m\n\u001b[1;32m      3\u001b[0m \u001b[0;34m[\u001b[0m\u001b[0;36m0\u001b[0m\u001b[0;34m,\u001b[0m\u001b[0;36m0\u001b[0m\u001b[0;34m,\u001b[0m\u001b[0;36m0\u001b[0m\u001b[0;34m,\u001b[0m\u001b[0;36m0\u001b[0m\u001b[0;34m,\u001b[0m\u001b[0;36m0\u001b[0m\u001b[0;34m,\u001b[0m\u001b[0;36m0\u001b[0m\u001b[0;34m,\u001b[0m\u001b[0;36m1\u001b[0m\u001b[0;34m,\u001b[0m\u001b[0;36m1\u001b[0m\u001b[0;34m,\u001b[0m\u001b[0;36m1\u001b[0m\u001b[0;34m,\u001b[0m\u001b[0;36m0\u001b[0m\u001b[0;34m,\u001b[0m\u001b[0;36m1\u001b[0m\u001b[0;34m,\u001b[0m\u001b[0;36m0\u001b[0m\u001b[0;34m,\u001b[0m\u001b[0;36m1\u001b[0m\u001b[0;34m,\u001b[0m\u001b[0;36m1\u001b[0m\u001b[0;34m,\u001b[0m\u001b[0;36m1\u001b[0m\u001b[0;34m,\u001b[0m\u001b[0;36m0\u001b[0m\u001b[0;34m,\u001b[0m\u001b[0;36m1\u001b[0m\u001b[0;34m,\u001b[0m\u001b[0;36m0\u001b[0m\u001b[0;34m,\u001b[0m\u001b[0;36m0\u001b[0m\u001b[0;34m,\u001b[0m\u001b[0;36m0\u001b[0m\u001b[0;34m,\u001b[0m\u001b[0;36m0\u001b[0m\u001b[0;34m,\u001b[0m\u001b[0;36m1\u001b[0m\u001b[0;34m,\u001b[0m\u001b[0;36m1\u001b[0m\u001b[0;34m,\u001b[0m\u001b[0;36m0\u001b[0m\u001b[0;34m,\u001b[0m\u001b[0;36m1\u001b[0m\u001b[0;34m,\u001b[0m\u001b[0;36m1\u001b[0m\u001b[0;34m,\u001b[0m\u001b[0;36m0\u001b[0m\u001b[0;34m,\u001b[0m\u001b[0;36m0\u001b[0m\u001b[0;34m,\u001b[0m\u001b[0;36m0\u001b[0m\u001b[0;34m,\u001b[0m\u001b[0;36m0\u001b[0m\u001b[0;34m,\u001b[0m\u001b[0;36m0\u001b[0m\u001b[0;34m,\u001b[0m\u001b[0;36m1\u001b[0m\u001b[0;34m,\u001b[0m\u001b[0;36m1\u001b[0m\u001b[0;34m,\u001b[0m\u001b[0;36m0\u001b[0m\u001b[0;34m,\u001b[0m\u001b[0;36m0\u001b[0m\u001b[0;34m,\u001b[0m\u001b[0;36m0\u001b[0m\u001b[0;34m,\u001b[0m\u001b[0;36m1\u001b[0m\u001b[0;34m,\u001b[0m\u001b[0;36m1\u001b[0m\u001b[0;34m,\u001b[0m\u001b[0;36m1\u001b[0m\u001b[0;34m,\u001b[0m\u001b[0;36m1\u001b[0m\u001b[0;34m,\u001b[0m\u001b[0;36m1\u001b[0m\u001b[0;34m,\u001b[0m\u001b[0;36m1\u001b[0m\u001b[0;34m,\u001b[0m\u001b[0;36m1\u001b[0m\u001b[0;34m,\u001b[0m\u001b[0;36m1\u001b[0m\u001b[0;34m,\u001b[0m\u001b[0;36m0\u001b[0m\u001b[0;34m,\u001b[0m\u001b[0;36m0\u001b[0m\u001b[0;34m,\u001b[0m\u001b[0;36m0\u001b[0m\u001b[0;34m,\u001b[0m\u001b[0;36m1\u001b[0m\u001b[0;34m,\u001b[0m\u001b[0;36m1\u001b[0m\u001b[0;34m,\u001b[0m\u001b[0;36m0\u001b[0m\u001b[0;34m,\u001b[0m\u001b[0;36m0\u001b[0m\u001b[0;34m,\u001b[0m\u001b[0;36m1\u001b[0m\u001b[0;34m,\u001b[0m\u001b[0;36m0\u001b[0m\u001b[0;34m,\u001b[0m\u001b[0;36m1\u001b[0m\u001b[0;34m,\u001b[0m\u001b[0;36m0\u001b[0m\u001b[0;34m,\u001b[0m\u001b[0;36m0\u001b[0m\u001b[0;34m,\u001b[0m\u001b[0;36m1\u001b[0m\u001b[0;34m,\u001b[0m\u001b[0;36m0\u001b[0m\u001b[0;34m,\u001b[0m\u001b[0;36m0\u001b[0m\u001b[0;34m,\u001b[0m\u001b[0;36m1\u001b[0m\u001b[0;34m,\u001b[0m\u001b[0;36m0\u001b[0m\u001b[0;34m,\u001b[0m\u001b[0;36m1\u001b[0m\u001b[0;34m,\u001b[0m\u001b[0;36m1\u001b[0m\u001b[0;34m,\u001b[0m\u001b[0;36m1\u001b[0m\u001b[0;34m]\u001b[0m\u001b[0;34m,\u001b[0m\u001b[0;34m\u001b[0m\u001b[0;34m\u001b[0m\u001b[0m\n\u001b[1;32m      4\u001b[0m \u001b[0;34m[\u001b[0m\u001b[0;36m1\u001b[0m\u001b[0;34m,\u001b[0m\u001b[0;36m0\u001b[0m\u001b[0;34m,\u001b[0m\u001b[0;36m1\u001b[0m\u001b[0;34m,\u001b[0m\u001b[0;36m0\u001b[0m\u001b[0;34m,\u001b[0m\u001b[0;36m1\u001b[0m\u001b[0;34m,\u001b[0m\u001b[0;36m0\u001b[0m\u001b[0;34m,\u001b[0m\u001b[0;36m0\u001b[0m\u001b[0;34m,\u001b[0m\u001b[0;36m1\u001b[0m\u001b[0;34m,\u001b[0m\u001b[0;36m1\u001b[0m\u001b[0;34m,\u001b[0m\u001b[0;36m1\u001b[0m\u001b[0;34m,\u001b[0m\u001b[0;36m1\u001b[0m\u001b[0;34m,\u001b[0m\u001b[0;36m1\u001b[0m\u001b[0;34m,\u001b[0m\u001b[0;36m0\u001b[0m\u001b[0;34m,\u001b[0m\u001b[0;36m1\u001b[0m\u001b[0;34m,\u001b[0m\u001b[0;36m1\u001b[0m\u001b[0;34m,\u001b[0m\u001b[0;36m1\u001b[0m\u001b[0;34m,\u001b[0m\u001b[0;36m1\u001b[0m\u001b[0;34m,\u001b[0m\u001b[0;36m1\u001b[0m\u001b[0;34m,\u001b[0m\u001b[0;36m1\u001b[0m\u001b[0;34m,\u001b[0m\u001b[0;36m0\u001b[0m\u001b[0;34m,\u001b[0m\u001b[0;36m0\u001b[0m\u001b[0;34m,\u001b[0m\u001b[0;36m0\u001b[0m\u001b[0;34m,\u001b[0m\u001b[0;36m1\u001b[0m\u001b[0;34m,\u001b[0m\u001b[0;36m1\u001b[0m\u001b[0;34m,\u001b[0m\u001b[0;36m0\u001b[0m\u001b[0;34m,\u001b[0m\u001b[0;36m1\u001b[0m\u001b[0;34m,\u001b[0m\u001b[0;36m1\u001b[0m\u001b[0;34m,\u001b[0m\u001b[0;36m0\u001b[0m\u001b[0;34m,\u001b[0m\u001b[0;36m1\u001b[0m\u001b[0;34m,\u001b[0m\u001b[0;36m0\u001b[0m\u001b[0;34m,\u001b[0m\u001b[0;36m0\u001b[0m\u001b[0;34m,\u001b[0m\u001b[0;36m0\u001b[0m\u001b[0;34m,\u001b[0m\u001b[0;36m1\u001b[0m\u001b[0;34m,\u001b[0m\u001b[0;36m1\u001b[0m\u001b[0;34m,\u001b[0m\u001b[0;36m1\u001b[0m\u001b[0;34m,\u001b[0m\u001b[0;36m0\u001b[0m\u001b[0;34m,\u001b[0m\u001b[0;36m0\u001b[0m\u001b[0;34m,\u001b[0m\u001b[0;36m1\u001b[0m\u001b[0;34m,\u001b[0m\u001b[0;36m0\u001b[0m\u001b[0;34m,\u001b[0m\u001b[0;36m1\u001b[0m\u001b[0;34m,\u001b[0m\u001b[0;36m0\u001b[0m\u001b[0;34m,\u001b[0m\u001b[0;36m1\u001b[0m\u001b[0;34m,\u001b[0m\u001b[0;36m0\u001b[0m\u001b[0;34m,\u001b[0m\u001b[0;36m1\u001b[0m\u001b[0;34m,\u001b[0m\u001b[0;36m1\u001b[0m\u001b[0;34m,\u001b[0m\u001b[0;36m0\u001b[0m\u001b[0;34m,\u001b[0m\u001b[0;36m0\u001b[0m\u001b[0;34m,\u001b[0m\u001b[0;36m0\u001b[0m\u001b[0;34m,\u001b[0m\u001b[0;36m1\u001b[0m\u001b[0;34m,\u001b[0m\u001b[0;36m1\u001b[0m\u001b[0;34m,\u001b[0m\u001b[0;36m0\u001b[0m\u001b[0;34m,\u001b[0m\u001b[0;36m0\u001b[0m\u001b[0;34m,\u001b[0m\u001b[0;36m0\u001b[0m\u001b[0;34m,\u001b[0m\u001b[0;36m0\u001b[0m\u001b[0;34m,\u001b[0m\u001b[0;36m1\u001b[0m\u001b[0;34m,\u001b[0m\u001b[0;36m0\u001b[0m\u001b[0;34m,\u001b[0m\u001b[0;36m1\u001b[0m\u001b[0;34m,\u001b[0m\u001b[0;36m1\u001b[0m\u001b[0;34m,\u001b[0m\u001b[0;36m0\u001b[0m\u001b[0;34m,\u001b[0m\u001b[0;36m0\u001b[0m\u001b[0;34m,\u001b[0m\u001b[0;36m0\u001b[0m\u001b[0;34m,\u001b[0m\u001b[0;36m0\u001b[0m\u001b[0;34m,\u001b[0m\u001b[0;36m0\u001b[0m\u001b[0;34m,\u001b[0m\u001b[0;36m1\u001b[0m\u001b[0;34m]\u001b[0m\u001b[0;34m,\u001b[0m\u001b[0;34m\u001b[0m\u001b[0;34m\u001b[0m\u001b[0m\n\u001b[1;32m      5\u001b[0m [1,1,1,1,1,1,0,0,0,1,0,1,0,0,0,1,0,1,1,1,1,0,0,1,0,0,1,1,1,1,1,0,0,1,1,1,0,0,0,0,0,0,0,0,1,1,1,0,0,1,1,0,1,0,1,1,0,1,1,0,1,0,0,0]])\n",
      "\u001b[0;31mNameError\u001b[0m: name 'np' is not defined"
     ]
    }
   ],
   "source": [
    "mot = np.array([\n",
    "[0,1,0,1,0,1,1,0,0,0,0,0,1,0,0,0,0,0,0,1,1,1,0,0,1,0,0,1,0,1,1,1,0,0,0,1,1,0,1,0,1,0,1,0,0,1,1,1,0,0,1,1,1,1,0,1,0,0,1,1,1,1,1,0],\n",
    "[0,0,0,0,0,0,1,1,1,0,1,0,1,1,1,0,1,0,0,0,0,1,1,0,1,1,0,0,0,0,0,1,1,0,0,0,1,1,1,1,1,1,1,1,0,0,0,1,1,0,0,1,0,1,0,0,1,0,0,1,0,1,1,1],\n",
    "[1,0,1,0,1,0,0,1,1,1,1,1,0,1,1,1,1,1,1,0,0,0,1,1,0,1,1,0,1,0,0,0,1,1,1,0,0,1,0,1,0,1,0,1,1,0,0,0,1,1,0,0,0,0,1,0,1,1,0,0,0,0,0,1],\n",
    "[1,1,1,1,1,1,0,0,0,1,0,1,0,0,0,1,0,1,1,1,1,0,0,1,0,0,1,1,1,1,1,0,0,1,1,1,0,0,0,0,0,0,0,0,1,1,1,0,0,1,1,0,1,0,1,1,0,1,1,0,1,0,0,0]])\n",
    "for i in range(len(mot)):\n",
    "    x = np.correlate(soft_bits, mot[i]-np.mean(mot[i]))\n",
    "    plt.figure(i+1)\n",
    "    plt.title(\"Figure{}\".format(i+1))\n",
    "    plt.plot((x.real))\n",
    "\n",
    "\n",
    "plt.show()"
   ]
  },
  {
   "cell_type": "markdown",
   "metadata": {},
   "source": [
    "19. **Le motif cherché est-il présent ? Noter le numéro de la figure présentant des pics de corrélation positifs.**\n"
   ]
  },
  {
   "cell_type": "markdown",
   "metadata": {},
   "source": [
    "Répondre ici\n"
   ]
  },
  {
   "cell_type": "markdown",
   "metadata": {},
   "source": [
    "20. **Combien compte t-on de corrélations ? De quelle valeur chaque pic est espacé du suivant ?\n",
    "Est-ce cohérent avec la valeur de 16384 annoncé dans la documentation ? Est-ce cohérent\n",
    "avec la taille du fichier en octet ?**\n"
   ]
  },
  {
   "cell_type": "markdown",
   "metadata": {},
   "source": [
    "Répondre ici\n"
   ]
  },
  {
   "cell_type": "markdown",
   "metadata": {},
   "source": [
    "# 4. Silence.. On tourne!\n",
    "Que faut-il faire pour remettre les symboles à leurs places dans la constellation?\n",
    "\n",
    "10 → ... ; 01 → ... ; 00 → ... ; 11 → ....\n",
    "\n"
   ]
  },
  {
   "cell_type": "markdown",
   "metadata": {},
   "source": [
    "\n",
    "21. **Compléter le programme suivant permettant de remettre\n",
    "les symboles \"dans l’ordre\" :**"
   ]
  },
  {
   "cell_type": "markdown",
   "metadata": {},
   "source": [
    "Répondre ici\n"
   ]
  },
  {
   "cell_type": "code",
   "execution_count": 4,
   "metadata": {},
   "outputs": [
    {
     "ename": "SyntaxError",
     "evalue": "invalid syntax (<ipython-input-4-8f6d24144498>, line 2)",
     "output_type": "error",
     "traceback": [
      "\u001b[0;36m  File \u001b[0;32m\"<ipython-input-4-8f6d24144498>\"\u001b[0;36m, line \u001b[0;32m2\u001b[0m\n\u001b[0;31m    soft_bits[i]=......\u001b[0m\n\u001b[0m                    ^\u001b[0m\n\u001b[0;31mSyntaxError\u001b[0m\u001b[0;31m:\u001b[0m invalid syntax\n"
     ]
    }
   ],
   "source": [
    "for i in range(0,len(soft_bits)):\n",
    "    soft_bits[i]=......\n",
    "                                 \n",
    "g=open(\"entreeViterbi.bin\",\"wb\")  #Enregistrement des données corrigées\n",
    "g.write(soft_bits)\n",
    "g.close()"
   ]
  },
  {
   "cell_type": "markdown",
   "metadata": {},
   "source": [
    "22. **Reprendre les questions 15 et 17 (conversion en hard_bits puis recherche du mot de\n",
    "synchronisation encodé par Viterbi). Est-ce bon cette fois-ci ? Commenter.**"
   ]
  },
  {
   "cell_type": "code",
   "execution_count": 5,
   "metadata": {},
   "outputs": [
    {
     "ename": "NameError",
     "evalue": "name 'soft_bits' is not defined",
     "output_type": "error",
     "traceback": [
      "\u001b[0;31m---------------------------------------------------------------------------\u001b[0m",
      "\u001b[0;31mNameError\u001b[0m                                 Traceback (most recent call last)",
      "\u001b[0;32m<ipython-input-5-580745df6a89>\u001b[0m in \u001b[0;36m<module>\u001b[0;34m\u001b[0m\n\u001b[1;32m      1\u001b[0m \u001b[0mhard_bits\u001b[0m \u001b[0;34m=\u001b[0m\u001b[0;34m\"\"\u001b[0m\u001b[0;34m\u001b[0m\u001b[0;34m\u001b[0m\u001b[0m\n\u001b[0;32m----> 2\u001b[0;31m \u001b[0;32mfor\u001b[0m \u001b[0mi\u001b[0m \u001b[0;32min\u001b[0m \u001b[0mrange\u001b[0m\u001b[0;34m(\u001b[0m\u001b[0mlen\u001b[0m\u001b[0;34m(\u001b[0m\u001b[0msoft_bits\u001b[0m\u001b[0;34m)\u001b[0m\u001b[0;34m)\u001b[0m\u001b[0;34m:\u001b[0m\u001b[0;34m\u001b[0m\u001b[0;34m\u001b[0m\u001b[0m\n\u001b[0m\u001b[1;32m      3\u001b[0m     \u001b[0;32mif\u001b[0m \u001b[0msoft_bits\u001b[0m\u001b[0;34m[\u001b[0m\u001b[0mi\u001b[0m\u001b[0;34m]\u001b[0m \u001b[0;34m>=\u001b[0m \u001b[0;34m...\u001b[0m\u001b[0;34m:\u001b[0m\u001b[0;34m\u001b[0m\u001b[0;34m\u001b[0m\u001b[0m\n\u001b[1;32m      4\u001b[0m         \u001b[0mhard_bits\u001b[0m \u001b[0;34m+=\u001b[0m \u001b[0;34m\"...\"\u001b[0m\u001b[0;34m\u001b[0m\u001b[0;34m\u001b[0m\u001b[0m\n\u001b[1;32m      5\u001b[0m     \u001b[0;32mif\u001b[0m \u001b[0msoft_bits\u001b[0m\u001b[0;34m[\u001b[0m\u001b[0mi\u001b[0m\u001b[0;34m]\u001b[0m \u001b[0;34m<\u001b[0m \u001b[0;34m...\u001b[0m\u001b[0;34m:\u001b[0m\u001b[0;34m\u001b[0m\u001b[0;34m\u001b[0m\u001b[0m\n",
      "\u001b[0;31mNameError\u001b[0m: name 'soft_bits' is not defined"
     ]
    }
   ],
   "source": [
    "hard_bits =\"\"\n",
    "for i in range(len(soft_bits)):\n",
    "    if soft_bits[i] >= ...:\n",
    "        hard_bits += \"...\"\n",
    "    if soft_bits[i] < ...:\n",
    "        hard_bits += \"...\"\n",
    "hard_bits.count(\"....\")\n"
   ]
  },
  {
   "cell_type": "markdown",
   "metadata": {},
   "source": [
    "Répondre ici\n"
   ]
  },
  {
   "cell_type": "markdown",
   "metadata": {},
   "source": [
    "# 5. Viterbi intervient !\n",
    "\n",
    "La fonction **decode\\_viterbi(mot)** permet de décoder un mot binaire qui a préalablement été encodé par l'algorithme de Viterbi en renvoyant le nombre d'erreur et le résultat traduit en hexadécimal. Cette fonction fait intervenir une fonction GNU Octave contenue dans le fichier \"viterbi.m\". Afin d'éviter l'installation un peu lourde du programme GNU Octave et des modules \"signal\", \"control\" et \"communications\" nécéssaires au bon fonctionnement de ce script, observer attentivement le gif animé ci-dessous afin de répondre aux deux questions suivantes et appréhender ainsi la puissance et l'efficacité de ce type d'encodage.\n",
    "\n",
    "![SegmentLocal](images/viterbi.gif \"segment\")\n",
    "\n",
    "\n",
    "Nous avons vu qu’il était possible d’encoder une suite de bits avec l’algorithme de viterbi, voyons\n",
    "maintenant quel est son intérêt et comment faire le chemin inverse. Commençons par traduire notre\n",
    "mot\n",
    "\n",
    "0101011000001000000111001001011100011010101001110011110100111110\n",
    "\n",
    "Nous devrions retrouver 0x1ACFFC1D..\n",
    "\n",
    "23. **Inverser 1 bit au hasard dans le mot précédent et recommencer le décodage**"
   ]
  },
  {
   "cell_type": "markdown",
   "metadata": {},
   "source": [
    "Répondre ici\n"
   ]
  },
  {
   "cell_type": "markdown",
   "metadata": {},
   "source": [
    "24. **Inverser plusieurs bits au hasard dans le mot précédent et recommencer le décodage**"
   ]
  },
  {
   "cell_type": "markdown",
   "metadata": {},
   "source": [
    "Répondre ici\n"
   ]
  },
  {
   "cell_type": "markdown",
   "metadata": {},
   "source": [
    "Conclusion : Ne pas négliger viterbi, il a un rôle crucial ! La plupart des communications numériques actuelles mettent en jeu l’algorithme de Viterbi associé à d’autres codes correcteurs d’erreurs\n",
    "(Reed-Solomon par exemple). On le retrouve par exemple dans les protocoles utilisés par la TNT, la\n",
    "TV par satellite, l’ADSL...etc. Sans ces codes correcteurs, la communication serait impossible (en tout\n",
    "cas très limité et au voisinage proche de l’émetteur).\n"
   ]
  },
  {
   "cell_type": "markdown",
   "metadata": {},
   "source": [
    "# 6. Décodage des softs bits par l’algorithme de viterbi\n",
    "\n",
    "Nous venons de voir qu'il est crucial de traiter nos données brutes par l'algorithme (inverse) de Viterbi afin d'éliminer les erreurs dues à la transmission.\n",
    "Il existe une librairie écrite en c++ qui permet de décoder les softs bits en utilisant l'algorithme de viterbi (https://github.com/quiet/libfec).\n",
    "À titre indicatif et pour ceux qui souhaiteraient reproduire cette étape, ci-dessous le programme que nous avons utilisé afin d'obtenir le fichier décodé (fortement inspiré de [1]). Cette étape à été réalisée avec le fichier \\textbf{binarymeteor2.s} et le résultat du décodage se trouve dans le fichier \\textbf{viterbi2.bin}.\n",
    "\n",
    "\n",
    "![title](images/libfec.png)\n",
    "\n",
    "25. **Ouvrir avec python le fichier de sortie appelé ici viterbi2.bin et convertir les valeurs en\n",
    "binaire sur 8 bits à l’aide de l’exemple ci-dessous. Conclure.**\n",
    "\n",
    "![title](images/bin.png)"
   ]
  },
  {
   "cell_type": "code",
   "execution_count": 6,
   "metadata": {},
   "outputs": [
    {
     "ename": "SyntaxError",
     "evalue": "invalid syntax (<ipython-input-6-2c510669f852>, line 6)",
     "output_type": "error",
     "traceback": [
      "\u001b[0;36m  File \u001b[0;32m\"<ipython-input-6-2c510669f852>\"\u001b[0;36m, line \u001b[0;32m6\u001b[0m\n\u001b[0;31m    binary+=......\u001b[0m\n\u001b[0m               ^\u001b[0m\n\u001b[0;31mSyntaxError\u001b[0m\u001b[0;31m:\u001b[0m invalid syntax\n"
     ]
    }
   ],
   "source": [
    "f = open(\"viterbi2.bin\",\"rb\")\n",
    "bits = np.fromfile(f,dtype = np.uint8)\n",
    "\n",
    "binary=''\n",
    "for i in range(len(bits)):\n",
    "\tbinary+=......\n",
    "    \n",
    "\n",
    "print(binary[:8*10])"
   ]
  },
  {
   "cell_type": "markdown",
   "metadata": {},
   "source": [
    "26. **Compter le nombre de fois que le mot de synchronisation 1acffc1d (converti en binaire\n",
    "sur 8 bits) se répète dans la liste. Conclure.**"
   ]
  },
  {
   "cell_type": "code",
   "execution_count": 7,
   "metadata": {},
   "outputs": [
    {
     "ename": "NameError",
     "evalue": "name 'binary' is not defined",
     "output_type": "error",
     "traceback": [
      "\u001b[0;31m---------------------------------------------------------------------------\u001b[0m",
      "\u001b[0;31mNameError\u001b[0m                                 Traceback (most recent call last)",
      "\u001b[0;32m<ipython-input-7-ee313478e0be>\u001b[0m in \u001b[0;36m<module>\u001b[0;34m\u001b[0m\n\u001b[0;32m----> 1\u001b[0;31m \u001b[0mbinary\u001b[0m\u001b[0;34m.\u001b[0m\u001b[0mcount\u001b[0m\u001b[0;34m(\u001b[0m\u001b[0;34m\"0001...........101\"\u001b[0m\u001b[0;34m)\u001b[0m \u001b[0;31m#1ACFFC1D\u001b[0m\u001b[0;34m\u001b[0m\u001b[0;34m\u001b[0m\u001b[0m\n\u001b[0m",
      "\u001b[0;31mNameError\u001b[0m: name 'binary' is not defined"
     ]
    }
   ],
   "source": [
    " binary.count(\"0001...........101\") #1ACFFC1D"
   ]
  },
  {
   "cell_type": "markdown",
   "metadata": {},
   "source": [
    "50 occurences du mot de synchronisation, c'est bon! Merci Viterbi!"
   ]
  },
  {
   "cell_type": "markdown",
   "metadata": {},
   "source": [
    "![title](images/bon.png)\n",
    "\n",
    "**BRAVO! Tu peux maintenant passer à la partie 2 concernant le décodage de l'image!**\n",
    "\n"
   ]
  },
  {
   "cell_type": "code",
   "execution_count": null,
   "metadata": {},
   "outputs": [],
   "source": []
  }
 ],
 "metadata": {
  "kernelspec": {
   "display_name": "Python 3",
   "language": "python",
   "name": "python3"
  },
  "language_info": {
   "codemirror_mode": {
    "name": "ipython",
    "version": 3
   },
   "file_extension": ".py",
   "mimetype": "text/x-python",
   "name": "python",
   "nbconvert_exporter": "python",
   "pygments_lexer": "ipython3",
   "version": "3.8.2"
  }
 },
 "nbformat": 4,
 "nbformat_minor": 4
}
